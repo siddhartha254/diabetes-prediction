{
  "nbformat": 4,
  "nbformat_minor": 0,
  "metadata": {
    "colab": {
      "provenance": [],
      "authorship_tag": "ABX9TyNBZ7o9VZ57+xtuxxEx1gsP"
    },
    "kernelspec": {
      "name": "python3",
      "display_name": "Python 3"
    },
    "language_info": {
      "name": "python"
    }
  },
  "cells": [
    {
      "cell_type": "code",
      "execution_count": 7,
      "metadata": {
        "id": "DToVEacsPzmC"
      },
      "outputs": [],
      "source": [
        "import pandas as pd\n",
        "import numpy as np\n",
        "from sklearn.preprocessing import StandardScaler\n",
        "from sklearn.model_selection import train_test_split\n",
        "from sklearn import svm\n",
        "from sklearn.metrics import accuracy_score"
      ]
    },
    {
      "cell_type": "code",
      "source": [
        "diabetes_data=pd.read_csv('/content/diabetes.csv')\n",
        "\n",
        "x=diabetes_data.drop(columns='Outcome', axis=1)\n",
        "y=diabetes_data['Outcome']"
      ],
      "metadata": {
        "id": "hq3AsqcJQZOM"
      },
      "execution_count": 8,
      "outputs": []
    },
    {
      "cell_type": "code",
      "source": [
        "scaler=StandardScaler()\n",
        "stdized_data=scaler.fit_transform(x)\n",
        "\n",
        "x=stdized_data"
      ],
      "metadata": {
        "id": "azSVEMj-XTZs"
      },
      "execution_count": 9,
      "outputs": []
    },
    {
      "cell_type": "code",
      "source": [
        "x_train, x_test, y_train, y_test = train_test_split(x, y, test_size=0.2, random_state=1, stratify=y)"
      ],
      "metadata": {
        "id": "6KKnMJJeZl7d"
      },
      "execution_count": 10,
      "outputs": []
    },
    {
      "cell_type": "code",
      "source": [
        "classifier=svm.SVC(kernel='linear')\n",
        "classifier.fit(x_train, y_train)"
      ],
      "metadata": {
        "colab": {
          "base_uri": "https://localhost:8080/"
        },
        "id": "tCwiFejba_U5",
        "outputId": "f026c30e-db32-493f-912c-be8de67ffd26"
      },
      "execution_count": 11,
      "outputs": [
        {
          "output_type": "execute_result",
          "data": {
            "text/plain": [
              "SVC(kernel='linear')"
            ]
          },
          "metadata": {},
          "execution_count": 11
        }
      ]
    },
    {
      "cell_type": "code",
      "source": [
        "x_train_predicted=classifier.predict(x_train)\n",
        "training_set_accuracy=accuracy_score(x_train_predicted, y_train)\n",
        "print(training_set_accuracy)"
      ],
      "metadata": {
        "colab": {
          "base_uri": "https://localhost:8080/"
        },
        "id": "j91c6CrjtWrU",
        "outputId": "72517030-63ae-4c7e-ceda-ffbcf5f7ed2c"
      },
      "execution_count": 12,
      "outputs": [
        {
          "output_type": "stream",
          "name": "stdout",
          "text": [
            "0.7833876221498371\n"
          ]
        }
      ]
    },
    {
      "cell_type": "code",
      "source": [
        "x_test_predicted=classifier.predict(x_test)\n",
        "testing_set_accuracy=accuracy_score(x_test_predicted, y_test)\n",
        "print(testing_set_accuracy)"
      ],
      "metadata": {
        "colab": {
          "base_uri": "https://localhost:8080/"
        },
        "id": "hXPxaDjit7Bq",
        "outputId": "e65c19cf-01a1-4657-d3e3-a74e38a5816b"
      },
      "execution_count": 13,
      "outputs": [
        {
          "output_type": "stream",
          "name": "stdout",
          "text": [
            "0.7792207792207793\n"
          ]
        }
      ]
    },
    {
      "cell_type": "code",
      "source": [
        "input=(3,78,50,32,88,31,0.248,26)\n",
        "input_array=np.array(input)\n",
        "input_array_reshaped=input_array.reshape(1,-1)\n",
        "\n",
        "prediction=classifier.predict(input_array_reshaped)\n",
        "\n",
        "print(prediction)"
      ],
      "metadata": {
        "colab": {
          "base_uri": "https://localhost:8080/"
        },
        "id": "8aa-JE4jlDdv",
        "outputId": "c9b4d1f3-78ee-4646-936c-d53e12872169"
      },
      "execution_count": 30,
      "outputs": [
        {
          "output_type": "stream",
          "name": "stdout",
          "text": [
            "[1]\n"
          ]
        }
      ]
    }
  ]
}