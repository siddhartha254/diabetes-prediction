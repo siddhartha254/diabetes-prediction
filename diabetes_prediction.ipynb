{
  "nbformat": 4,
  "nbformat_minor": 0,
  "metadata": {
    "colab": {
      "provenance": [],
      "toc_visible": true,
      "authorship_tag": "ABX9TyNDQkZhJ1RRAOYKDBgSSFaC"
    },
    "kernelspec": {
      "name": "python3",
      "display_name": "Python 3"
    },
    "language_info": {
      "name": "python"
    }
  },
  "cells": [
    {
      "cell_type": "code",
      "execution_count": 25,
      "metadata": {
        "id": "DToVEacsPzmC"
      },
      "outputs": [],
      "source": [
        "import pandas as pd\n",
        "import numpy as np\n",
        "from sklearn.preprocessing import StandardScaler\n",
        "from sklearn.model_selection import train_test_split\n",
        "from sklearn import svm\n",
        "from sklearn.metrics import accuracy_score"
      ]
    },
    {
      "cell_type": "code",
      "source": [
        "diabetes_data=pd.read_csv('/content/diabetes.csv')\n",
        "\n",
        "x=diabetes_data.drop(columns='Outcome', axis=1)\n",
        "y=diabetes_data['Outcome']"
      ],
      "metadata": {
        "id": "hq3AsqcJQZOM"
      },
      "execution_count": 8,
      "outputs": []
    },
    {
      "cell_type": "code",
      "source": [
        "scaler=StandardScaler()\n",
        "stdized_data=scaler.fit_transform(x)\n",
        "\n",
        "x=stdized_data"
      ],
      "metadata": {
        "id": "azSVEMj-XTZs"
      },
      "execution_count": 24,
      "outputs": []
    },
    {
      "cell_type": "code",
      "source": [
        "x_train, x_test, y_train, y_test = train_test_split(x, y, test_size=0.2, random_state=1, stratify=y)"
      ],
      "metadata": {
        "id": "6KKnMJJeZl7d"
      },
      "execution_count": 28,
      "outputs": []
    },
    {
      "cell_type": "code",
      "source": [],
      "metadata": {
        "id": "tCwiFejba_U5"
      },
      "execution_count": null,
      "outputs": []
    }
  ]
}